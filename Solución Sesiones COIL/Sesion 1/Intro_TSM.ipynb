{
 "cells": [
  {
   "cell_type": "markdown",
   "metadata": {},
   "source": [
    "\n",
    "(base) C:\\Users\\wonderwoman>conda info\n",
    "\n",
    "     active environment : base\n",
    "    active env location : C:\\Users\\wonderwoman\\anaconda3\n",
    "            shell level : 1\n",
    "       user config file : C:\\Users\\wonderwoman\\.condarc\n",
    " populated config files : C:\\Users\\wonderwoman\\.condarc\n",
    "          conda version : 4.10.3\n",
    "    conda-build version : 3.21.6\n",
    "         python version : 3.9.7.final.0\n",
    "       virtual packages : __win=0=0\n",
    "                          __archspec=1=x86_64\n",
    "       base environment : C:\\Users\\wonderwoman\\anaconda3  (writable)\n",
    "      conda av data dir : C:\\Users\\wonderwoman\\anaconda3\\etc\\conda\n",
    "  conda av metadata url : None\n",
    "           channel URLs : https://repo.anaconda.com/pkgs/main/win-64\n",
    "                          https://repo.anaconda.com/pkgs/main/noarch\n",
    "                          https://repo.anaconda.com/pkgs/r/win-64\n",
    "                          https://repo.anaconda.com/pkgs/r/noarch\n",
    "                          https://repo.anaconda.com/pkgs/msys2/win-64\n",
    "                          https://repo.anaconda.com/pkgs/msys2/noarch\n",
    "          package cache : C:\\Users\\wonderwoman\\anaconda3\\pkgs\n",
    "                          C:\\Users\\wonderwoman\\.conda\\pkgs\n",
    "                          C:\\Users\\wonderwoman\\AppData\\Local\\conda\\conda\\pkgs\n",
    "       envs directories : C:\\Users\\wonderwoman\\anaconda3\\envs\n",
    "                          C:\\Users\\wonderwoman\\.conda\\envs\n",
    "                          C:\\Users\\wonderwoman\\AppData\\Local\\conda\\conda\\envs\n",
    "               platform : win-64\n",
    "             user-agent : conda/4.10.3 requests/2.26.0 CPython/3.9.7 Windows/10 Windows/10.0.19043\n",
    "          administrator : False\n",
    "             netrc file : None\n",
    "           offline mode : False\n",
    "\n",
    "\n",
    "(base) C:\\Users\\wonderwoman>"
   ]
  },
  {
   "cell_type": "markdown",
   "metadata": {},
   "source": []
  },
  {
   "cell_type": "code",
   "execution_count": 10,
   "metadata": {},
   "outputs": [
    {
     "name": "stdout",
     "output_type": "stream",
     "text": [
      "Thor\n",
      "IronMan\n",
      "Hulk\n",
      "Doctor Strange\n",
      "She hulk\n"
     ]
    }
   ],
   "source": [
    "superheroes=[\"Thor\",\"IronMan\",\"Hulk\",\"Doctor Strange\",\"She hulk\"]\n",
    "\n",
    "for item in range(len(superheroes)):\n",
    "    print(superheroes[item])"
   ]
  },
  {
   "cell_type": "markdown",
   "metadata": {},
   "source": [
    "Ejercicio 1.2"
   ]
  },
  {
   "cell_type": "code",
   "execution_count": 11,
   "metadata": {},
   "outputs": [
    {
     "name": "stdout",
     "output_type": "stream",
     "text": [
      "MÓDULO 1 DE PYTHON\n",
      "módulo 1 de python\n"
     ]
    }
   ],
   "source": [
    "# Convertir la variable \"var_1\" en todas las letras mayúsculas y en minúsculas\n",
    "var_1 = 'Módulo 1 de Python'\n",
    "convertirMayusculas = var_1.upper()\n",
    "convertirMinusculas=var_1.lower()\n",
    "print(convertirMayusculas)\n",
    "print(convertirMinusculas)"
   ]
  },
  {
   "cell_type": "code",
   "execution_count": 12,
   "metadata": {},
   "outputs": [
    {
     "name": "stdout",
     "output_type": "stream",
     "text": [
      "18\n",
      "2.5714285714285716\n",
      "2.5714\n"
     ]
    }
   ],
   "source": [
    "# Consulta el tamaño o la longitud de la variable \"var_1\" y calcula la división de ese numero entre \"7\" redondeado a 4 decimales\n",
    "var_1 = 'Módulo 1 de Python'\n",
    "longitudVar1=len(var_1)\n",
    "print(longitudVar1)\n",
    "divisionVar1=longitudVar1/7\n",
    "print(divisionVar1)\n",
    "redondeo=round(divisionVar1,4)\n",
    "print(redondeo)"
   ]
  },
  {
   "cell_type": "code",
   "execution_count": 13,
   "metadata": {},
   "outputs": [
    {
     "data": {
      "text/plain": [
       "0"
      ]
     },
     "execution_count": 13,
     "metadata": {},
     "output_type": "execute_result"
    }
   ],
   "source": [
    "# Añade parántesis a la siguiente operación para que el resultado final sea igual a cero (0)\n",
    "12 - (4 * 2) - (2 + 2)"
   ]
  },
  {
   "cell_type": "code",
   "execution_count": 14,
   "metadata": {},
   "outputs": [
    {
     "data": {
      "text/plain": [
       "14"
      ]
     },
     "execution_count": 14,
     "metadata": {},
     "output_type": "execute_result"
    }
   ],
   "source": [
    "# Añade parántesis a la siguiente operación para que el resultado final sea igual a catorce (14)\n",
    "\n",
    "12 - 4 * (2 - 2) + 2"
   ]
  },
  {
   "cell_type": "code",
   "execution_count": 15,
   "metadata": {},
   "outputs": [
    {
     "name": "stdout",
     "output_type": "stream",
     "text": [
      "Eres menor de edad\n"
     ]
    }
   ],
   "source": [
    "# pedir al usuario que introduzca su edad, y después imprimir en la pantalla si es meyor de edad o no\n",
    "edad = int(input(\"Introduce tu edad: \"))\n",
    "if edad >= 18:\n",
    "    print(\"Eres mayor de edad\")\n",
    "else:\n",
    "    print(\"Eres menor de edad\")"
   ]
  }
 ],
 "metadata": {
  "kernelspec": {
   "display_name": "Python 3.9.0 ('recomendadorVideos')",
   "language": "python",
   "name": "python3"
  },
  "language_info": {
   "codemirror_mode": {
    "name": "ipython",
    "version": 3
   },
   "file_extension": ".py",
   "mimetype": "text/x-python",
   "name": "python",
   "nbconvert_exporter": "python",
   "pygments_lexer": "ipython3",
   "version": "3.9.0"
  },
  "orig_nbformat": 4,
  "vscode": {
   "interpreter": {
    "hash": "fd755ef5c364b0937fa7f305ca71365387f816473e8af8795860aa053b94a5ad"
   }
  }
 },
 "nbformat": 4,
 "nbformat_minor": 2
}
